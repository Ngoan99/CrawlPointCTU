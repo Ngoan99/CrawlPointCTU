{
 "cells": [
  {
   "cell_type": "code",
   "execution_count": null,
   "metadata": {},
   "outputs": [],
   "source": [
    "import requests\n",
    "from bs4 import BeautifulSoup"
   ]
  },
  {
   "cell_type": "code",
   "execution_count": null,
   "metadata": {},
   "outputs": [],
   "source": [
    "import time\n",
    "import numpy as np\n",
    "import pandas as pd"
   ]
  },
  {
   "cell_type": "code",
   "execution_count": null,
   "metadata": {},
   "outputs": [],
   "source": [
    "import infor"
   ]
  },
  {
   "cell_type": "markdown",
   "metadata": {},
   "source": [
    "show all to display in pandas"
   ]
  },
  {
   "cell_type": "code",
   "execution_count": null,
   "metadata": {},
   "outputs": [],
   "source": [
    "pd.set_option('display.max_rows', None)"
   ]
  },
  {
   "cell_type": "markdown",
   "metadata": {},
   "source": [
    "get information to login"
   ]
  },
  {
   "cell_type": "code",
   "execution_count": null,
   "metadata": {},
   "outputs": [],
   "source": [
    "username = infor.username\n",
    "password = infor.passwd"
   ]
  },
  {
   "cell_type": "markdown",
   "metadata": {},
   "source": [
    "fake browsers visit"
   ]
  },
  {
   "cell_type": "code",
   "execution_count": null,
   "metadata": {},
   "outputs": [],
   "source": [
    "headers = {\"user-agent\": \"Mozilla/5.0 (Windows NT 6.1; WOW64) AppleWebKit/537.36 (KHTML, like Gecko) Chrome/91.0.4472.194 Safari/537.36\"}"
   ]
  },
  {
   "cell_type": "code",
   "execution_count": null,
   "metadata": {},
   "outputs": [],
   "source": [
    "payload = {\n",
    "    'txtDinhDanh': username,\n",
    "    'txtMatKhau': password,\n",
    "    'f6e7a9414bec': '9B1709027tbuxkttyt',\n",
    "    'f2711251a4f': '5%24PTNgoan2510tkyx3',\n",
    "}"
   ]
  },
  {
   "cell_type": "markdown",
   "metadata": {},
   "source": [
    "form data to post"
   ]
  },
  {
   "cell_type": "code",
   "execution_count": null,
   "metadata": {},
   "outputs": [],
   "source": [
    "kqht_data = {\"hdDonVi\": \"Khoa+Công+nghệ\"}\n",
    "query_data = {\"cmbKhoaHoc\": \"%\", \"cmbHocKy\": \"%\"}"
   ]
  },
  {
   "cell_type": "markdown",
   "metadata": {},
   "source": [
    "link to access"
   ]
  },
  {
   "cell_type": "code",
   "execution_count": null,
   "metadata": {},
   "outputs": [],
   "source": [
    "urls = [\n",
    "    \"https://qldt.ctu.edu.vn/htql/sinhvien/dang_nhap.php\",                  ## Login page\n",
    "    \"https://qldt.ctu.edu.vn/htql/sinhvien/hindex.php\",                     ## Main page\n",
    "    \"https://qldt.ctu.edu.vn/htql/sinhvien/qldiem/codes/index.php\",         ## KQHT\n",
    "    \"https://qldt.ctu.edu.vn/htql/sinhvien/qldiem/codes/index.php?mID=201\"  ## View point page\n",
    "]"
   ]
  },
  {
   "cell_type": "markdown",
   "metadata": {},
   "source": [
    "access to link"
   ]
  },
  {
   "cell_type": "code",
   "execution_count": null,
   "metadata": {},
   "outputs": [],
   "source": [
    "with requests.Session() as s:\n",
    "    ## Login\n",
    "    response = s.post(urls[0], data=payload, headers=headers)\n",
    "    ##Navigate to Main page\n",
    "    response = s.get(urls[1], headers=headers)\n",
    "    time.sleep(0.1)\n",
    "    ##Navigate to kqht page\n",
    "    response = s.post(urls[2], data=kqht_data, headers=headers)\n",
    "    time.sleep(0.1)\n",
    "    ## Get all kqht with table format\n",
    "    response = s.post(urls[3], data=query_data, headers=headers)\n",
    "    time.sleep(0.1)\n",
    "    if response.status_code != 200:\n",
    "        print('---------Get data failed--------------')\n",
    " \n",
    "##read html and process raw data \n",
    "dfs = pd.read_html(response.content)\n",
    "tables = [df.drop(0, axis='rows') for df in dfs[5::3]]\n",
    "rawData = pd.concat(tables)"
   ]
  },
  {
   "cell_type": "markdown",
   "metadata": {},
   "source": [
    "set the column name"
   ]
  },
  {
   "cell_type": "code",
   "execution_count": null,
   "metadata": {},
   "outputs": [],
   "source": [
    "name_columns = dfs[5].loc[0, :]\n",
    "rawData.columns = name_columns"
   ]
  },
  {
   "cell_type": "markdown",
   "metadata": {},
   "source": [
    "remove the first column and set the order number for rows"
   ]
  },
  {
   "cell_type": "code",
   "execution_count": null,
   "metadata": {},
   "outputs": [],
   "source": [
    "rawData.drop(labels=['Stt'],axis=1,inplace=True)\n",
    "rawData.index = np.arange(1,rawData.shape[0]+1,1)"
   ]
  },
  {
   "cell_type": "markdown",
   "metadata": {},
   "source": [
    "remove data about SHCVHT and set the order number for rows"
   ]
  },
  {
   "cell_type": "code",
   "execution_count": null,
   "metadata": {},
   "outputs": [],
   "source": [
    "Data = rawData[rawData['Mã HP']!='SHCVHT']\n",
    "Data.index = np.arange(1,Data.shape[0]+1,1)"
   ]
  },
  {
   "cell_type": "markdown",
   "metadata": {},
   "source": [
    "find duplicated rows "
   ]
  },
  {
   "cell_type": "code",
   "execution_count": null,
   "metadata": {},
   "outputs": [],
   "source": [
    "same1 = Data.loc[Data.duplicated(subset=['Mã HP'], keep='first'),:]\n",
    "same2 = Data.loc[Data.duplicated(subset=['Mã HP'], keep='last'),:]"
   ]
  },
  {
   "cell_type": "markdown",
   "metadata": {},
   "source": [
    "save information of subjects more than 1 time"
   ]
  },
  {
   "cell_type": "code",
   "execution_count": null,
   "metadata": {},
   "outputs": [],
   "source": [
    "item1 = [list(same1.index),list(same1['Điểm số'])]\n",
    "item2 = [list(same2.index),list(same2['Điểm số'])]\n",
    "Idx_get=[]\n",
    "Idx_rem=[]"
   ]
  },
  {
   "cell_type": "markdown",
   "metadata": {},
   "source": [
    "select rows where that have greater score data"
   ]
  },
  {
   "cell_type": "code",
   "execution_count": null,
   "metadata": {},
   "outputs": [],
   "source": [
    "for i in range(len(item1[0])):\n",
    "    if item1[1][i] <= item2[1][i]:\n",
    "        Idx_rem.append(item1[0][i])\n",
    "        Idx_get.append(item1[0][i])\n",
    "    else:\n",
    "        Idx_rem.append(item2[0][i])\n",
    "        Idx_get.append(item1[0][i])"
   ]
  },
  {
   "cell_type": "code",
   "execution_count": null,
   "metadata": {},
   "outputs": [],
   "source": [
    "remIdx = np.array(Idx_rem)-1\n",
    "remIdx = list(remIdx)\n",
    "getIdx = np.array(Idx_get)\n",
    "getIdx = list(getIdx)"
   ]
  },
  {
   "cell_type": "code",
   "execution_count": null,
   "metadata": {},
   "outputs": [],
   "source": [
    "bulkhead = pd.DataFrame(['-']*same1.shape[1]).T\n",
    "bulkhead.columns = name_columns[1:]\n",
    "filted = Data.ix[getIdx]\n",
    "frames = [same2, bulkhead, same1, bulkhead, filted]\n",
    "Re_learn = pd.concat(frames)\n",
    "Re_learn = Re_learn.reset_index().iloc[:, 1:] \n",
    "RE = Re_learn.style.set_properties(**{'background-color': 'black', 'color': 'green'},\n",
    "                              subset=pd.IndexSlice[Re_learn.shape[0]- filted.shape[0]:, :])"
   ]
  },
  {
   "cell_type": "markdown",
   "metadata": {},
   "source": [
    "save re_learn data as excel file"
   ]
  },
  {
   "cell_type": "code",
   "execution_count": null,
   "metadata": {},
   "outputs": [],
   "source": [
    "RE.to_excel(\"Re_LearnDATA.xlsx\", index = False)"
   ]
  },
  {
   "cell_type": "markdown",
   "metadata": {},
   "source": [
    "remove duplicated rows that have smaller score data and set the order number for rows"
   ]
  },
  {
   "cell_type": "code",
   "execution_count": null,
   "metadata": {},
   "outputs": [],
   "source": [
    "Data =Data.drop(Data.index[[[remIdx]]])\n",
    "Data.index = np.arange(1,Data.shape[0]+1,1)"
   ]
  },
  {
   "cell_type": "markdown",
   "metadata": {},
   "source": [
    "save full data as excel file"
   ]
  },
  {
   "cell_type": "code",
   "execution_count": null,
   "metadata": {},
   "outputs": [],
   "source": [
    "Data.to_excel(\"FullDATA.xlsx\", index = True)"
   ]
  },
  {
   "cell_type": "markdown",
   "metadata": {},
   "source": [
    "remove the courses that do not have accumulated points"
   ]
  },
  {
   "cell_type": "code",
   "execution_count": null,
   "metadata": {},
   "outputs": [],
   "source": [
    "Accum = Data[Data['Tích lũy'] == '*']"
   ]
  },
  {
   "cell_type": "markdown",
   "metadata": {},
   "source": [
    "get items data to accumulate GPA"
   ]
  },
  {
   "cell_type": "code",
   "execution_count": null,
   "metadata": {},
   "outputs": [],
   "source": [
    "credits = list(Accum['Tín chỉ'])\n",
    "scores = list(Accum['Điểm chữ'])\n",
    "    ##convert letter score to score\n",
    "for idx, sco in enumerate(scores):\n",
    "    if sco =='A':\n",
    "        scores[idx] = 4\n",
    "    if sco =='B+':\n",
    "        scores[idx] = 3.5\n",
    "    if sco =='B':\n",
    "        scores[idx] = 3\n",
    "    if sco =='C+':\n",
    "        scores[idx] = 2.5\n",
    "    if sco =='C':\n",
    "        scores[idx] = 2\n",
    "    if sco =='D+':\n",
    "        scores[idx] = 1.5\n",
    "    if sco =='D':\n",
    "        scores[idx] = 1    \n",
    "Exchane = scores"
   ]
  },
  {
   "cell_type": "markdown",
   "metadata": {},
   "source": [
    "insert Exchane column into Accum and set the order number for rows"
   ]
  },
  {
   "cell_type": "code",
   "execution_count": null,
   "metadata": {},
   "outputs": [],
   "source": [
    "Accum.insert(loc=6, column='Exchane_scores', value=Exchane)\n",
    "Accum.index = np.arange(1,Accum.shape[0]+1,1)"
   ]
  },
  {
   "cell_type": "markdown",
   "metadata": {},
   "source": [
    "save accumulated data as csv file"
   ]
  },
  {
   "cell_type": "code",
   "execution_count": null,
   "metadata": {},
   "outputs": [],
   "source": [
    "Accum.to_excel(\"AccumScoreDATA.xlsx\", index = True)"
   ]
  },
  {
   "cell_type": "markdown",
   "metadata": {},
   "source": [
    "caculate GPA"
   ]
  },
  {
   "cell_type": "code",
   "execution_count": null,
   "metadata": {},
   "outputs": [],
   "source": [
    "numerator = 0\n",
    "denominator = 0\n",
    "for i in range(len(credits)):\n",
    "    numerator += int(credits[i])*Exchane[i]\n",
    "    denominator += int(credits[i])"
   ]
  },
  {
   "cell_type": "code",
   "execution_count": null,
   "metadata": {},
   "outputs": [],
   "source": [
    "GPA = numerator/denominator\n",
    "print(denominator)\n",
    "print(GPA)"
   ]
  }
 ],
 "metadata": {
  "kernelspec": {
   "display_name": "Python 3 (ipykernel)",
   "language": "python",
   "name": "python3"
  },
  "language_info": {
   "codemirror_mode": {
    "name": "ipython",
    "version": 3
   },
   "file_extension": ".py",
   "mimetype": "text/x-python",
   "name": "python",
   "nbconvert_exporter": "python",
   "pygments_lexer": "ipython3",
   "version": "3.8.10"
  }
 },
 "nbformat": 4,
 "nbformat_minor": 2
}
